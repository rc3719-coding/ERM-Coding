{
 "cells": [
  {
   "cell_type": "code",
   "execution_count": 1,
   "id": "9e5ec42e-d2ad-493c-bbf7-beacf3548c3f",
   "metadata": {},
   "outputs": [],
   "source": [
    "def WhoAmI():\n",
    "    return('rc3719')\n"
   ]
  },
  {
   "cell_type": "code",
   "execution_count": 2,
   "id": "13c6322b-cf77-4455-904b-2bce9ed43270",
   "metadata": {
    "scrolled": true
   },
   "outputs": [
    {
     "data": {
      "text/plain": [
       "'rc3719'"
      ]
     },
     "execution_count": 2,
     "metadata": {},
     "output_type": "execute_result"
    }
   ],
   "source": [
    "WhoAmI()"
   ]
  },
  {
   "cell_type": "markdown",
   "id": "a442cc77-4571-493a-bfa9-932cf4d7f56f",
   "metadata": {},
   "source": [
    "Q1"
   ]
  },
  {
   "cell_type": "code",
   "execution_count": 4,
   "id": "3c1f8ce7-7a17-4d99-9743-8fb0b4345663",
   "metadata": {},
   "outputs": [],
   "source": [
    "def getBondPrice(y, face, couponRate, m, ppy=1):\n",
    "    # coupon paid\n",
    "    coupon = face * couponRate / ppy\n",
    "    \n",
    "    # periods\n",
    "    n = m * ppy\n",
    "    \n",
    "    # rate\n",
    "    r = y / ppy\n",
    "    \n",
    "    bondPrice = 0\n",
    "    \n",
    "    # pv\n",
    "    for t in range(1, n+1):\n",
    "        bondPrice += coupon / ((1 + r) ** t)\n",
    "    \n",
    "    # facevalue\n",
    "    bondPrice += face / ((1 + r) ** n)\n",
    "    \n",
    "    return bondPrice"
   ]
  },
  {
   "cell_type": "code",
   "execution_count": 5,
   "id": "2e63d5f8-964e-4baa-be73-eeff101243f7",
   "metadata": {},
   "outputs": [
    {
     "data": {
      "text/plain": [
       "2170604.0567355165"
      ]
     },
     "execution_count": 5,
     "metadata": {},
     "output_type": "execute_result"
    }
   ],
   "source": [
    "getBondPrice(0.03,2000000,0.04,10,1)"
   ]
  },
  {
   "cell_type": "code",
   "execution_count": 6,
   "id": "5003f152-5682-457f-baf4-afaee9d83c5c",
   "metadata": {},
   "outputs": [
    {
     "data": {
      "text/plain": [
       "2171686.387850823"
      ]
     },
     "execution_count": 6,
     "metadata": {},
     "output_type": "execute_result"
    }
   ],
   "source": [
    "getBondPrice(0.03,2000000,0.04,10,2)"
   ]
  },
  {
   "cell_type": "markdown",
   "id": "ee4197f3-fed4-49a1-b751-6753dd7cbfd7",
   "metadata": {},
   "source": [
    "Q2"
   ]
  },
  {
   "cell_type": "code",
   "execution_count": 8,
   "id": "14532c27-f489-4018-8d2a-074479e0efe8",
   "metadata": {},
   "outputs": [],
   "source": [
    "def getBondDuration(y, face, couponRate, m, ppy=1):\n",
    "   \n",
    "    coupon = face * couponRate / ppy\n",
    "    n = m * ppy\n",
    "    r = y / ppy\n",
    "\n",
    "    bondPrice = 0\n",
    "    weighted_sum = 0\n",
    "\n",
    "    for t in range(1, n + 1):\n",
    "        if t == n:\n",
    "            cf = coupon + face\n",
    "        else:\n",
    "            cf = coupon\n",
    "        pvcf = cf / ((1 + r) ** t)\n",
    "\n",
    "        bondPrice += pvcf\n",
    "\n",
    "\n",
    "        weighted_sum += t * pvcf\n",
    "\n",
    "    bondDuration = weighted_sum / bondPrice\n",
    "    return bondDuration"
   ]
  },
  {
   "cell_type": "markdown",
   "id": "03602598-210a-4275-bde4-7abb255edcb5",
   "metadata": {},
   "source": [
    "y = 0.03\n",
    "face = 2000000\n",
    "couponRate = 0.04\n",
    "m = 10\n",
    "\n"
   ]
  },
  {
   "cell_type": "code",
   "execution_count": 14,
   "id": "b85b896e-e1c2-4bf5-8949-4959f3fbcfa2",
   "metadata": {},
   "outputs": [
    {
     "name": "stdout",
     "output_type": "stream",
     "text": [
      "8.508690304459575\n"
     ]
    }
   ],
   "source": [
    "print(getBondDuration(y, face, couponRate, m, 1))"
   ]
  },
  {
   "cell_type": "code",
   "execution_count": 15,
   "id": "3865994f-df42-42ef-9358-13c3747b9026",
   "metadata": {},
   "outputs": [
    {
     "name": "stdout",
     "output_type": "stream",
     "text": [
      "8.51\n"
     ]
    }
   ],
   "source": [
    "print(round(getBondDuration(y, face, couponRate, m, 1), 2))"
   ]
  },
  {
   "cell_type": "markdown",
   "id": "7ab1081a-19d2-40f3-8110-dee77592bfd0",
   "metadata": {},
   "source": [
    "Q3"
   ]
  },
  {
   "cell_type": "code",
   "execution_count": 22,
   "id": "42feafbe-ffcc-406d-b0c1-4bbd084e3b91",
   "metadata": {},
   "outputs": [],
   "source": [
    "def getBondPrice_E(face, couponRate, m, yc):\n",
    "\n",
    "    coupon = face * couponRate\n",
    "    bondPrice = 0\n",
    "\n",
    "    for i, r in enumerate(yc):           #\n",
    "        t = i + 1                       \n",
    "        cf = coupon if t < m else (coupon + face)\n",
    "        df = 1 / ((1 + r) ** t)     \n",
    "        bondPrice += cf * df\n",
    "\n",
    "    return bondPrice\n"
   ]
  },
  {
   "cell_type": "code",
   "execution_count": 21,
   "id": "099f7fd8-4f91-43c0-8a8a-23c802c456a0",
   "metadata": {},
   "outputs": [
    {
     "data": {
      "text/plain": [
       "2098948.9705506554"
      ]
     },
     "execution_count": 21,
     "metadata": {},
     "output_type": "execute_result"
    }
   ],
   "source": [
    "getBondPrice_E(2000000,0.04,5,[.010,.015,.020,.025,.030])"
   ]
  },
  {
   "cell_type": "code",
   "execution_count": 27,
   "id": "7828c81d-7989-4c05-84ea-ebcdab565b11",
   "metadata": {},
   "outputs": [
    {
     "data": {
      "text/plain": [
       "2098948.97"
      ]
     },
     "execution_count": 27,
     "metadata": {},
     "output_type": "execute_result"
    }
   ],
   "source": [
    "round(getBondPrice_E(2000000,0.04,5,[.010,.015,.020,.025,.030]),2)"
   ]
  },
  {
   "cell_type": "markdown",
   "id": "8104f188-ef34-4a1c-bbec-11e0fdba9b1b",
   "metadata": {},
   "source": [
    "Q4"
   ]
  },
  {
   "cell_type": "code",
   "execution_count": 28,
   "id": "78a895ff-61d2-419c-a5d4-0339151d1b8a",
   "metadata": {},
   "outputs": [],
   "source": [
    "def getBondPrice_Z(face, couponRate, times, yc):\n",
    "\n",
    "    coupon = face * couponRate\n",
    "    bondPrice = 0.0\n",
    "\n",
    "    for t, r in zip(times, yc):            \n",
    "        cf = coupon if t < max(times) else coupon + face\n",
    "        df = 1 / ((1 + r) ** t)             \n",
    "        bondPrice += cf * df\n",
    "\n",
    "    return bondPrice"
   ]
  },
  {
   "cell_type": "code",
   "execution_count": 29,
   "id": "d27a4d2f-91e2-4691-b368-8d9bbd6d1030",
   "metadata": {},
   "outputs": [
    {
     "data": {
      "text/plain": [
       "1996533.2719139731"
      ]
     },
     "execution_count": 29,
     "metadata": {},
     "output_type": "execute_result"
    }
   ],
   "source": [
    "getBondPrice_Z(2000000,0.04,[1,1.5,3,4,7],[.010,.015,.020,.025,.030])"
   ]
  },
  {
   "cell_type": "code",
   "execution_count": 30,
   "id": "c1f3220b-4267-4c86-8f74-f3855c496cd8",
   "metadata": {},
   "outputs": [
    {
     "data": {
      "text/plain": [
       "1996533.27"
      ]
     },
     "execution_count": 30,
     "metadata": {},
     "output_type": "execute_result"
    }
   ],
   "source": [
    "round(getBondPrice_Z(2000000,0.04,[1,1.5,3,4,7],[.010,.015,.020,.025,.030]),2)"
   ]
  },
  {
   "cell_type": "markdown",
   "id": "bb0e0c3f-baa9-4b8e-944c-e9810eb6923a",
   "metadata": {},
   "source": [
    "Q5"
   ]
  },
  {
   "cell_type": "code",
   "execution_count": 31,
   "id": "3b4929c1-a6ac-42cf-b3c9-299ef4d5359f",
   "metadata": {},
   "outputs": [
    {
     "name": "stdout",
     "output_type": "stream",
     "text": [
      "[1, 2, 'fizz', 4, 'buzz', 'fizz', 7, 8, 'fizz', 'buzz', 11, 'fizz', 13, 14, 'fizzbuzz']\n"
     ]
    }
   ],
   "source": [
    "def FizzBuzz(start, finish):\n",
    "    outlist = []\n",
    "    for i in range(start, finish + 1):\n",
    "        if i % 3 == 0 and i % 5 == 0:\n",
    "            outlist.append(\"fizzbuzz\")\n",
    "        elif i % 3 == 0:\n",
    "            outlist.append(\"fizz\")\n",
    "        elif i % 5 == 0:\n",
    "            outlist.append(\"buzz\")\n",
    "        else:\n",
    "            outlist.append(i)\n",
    "    return outlist\n",
    "print(FizzBuzz(1, 15))"
   ]
  },
  {
   "cell_type": "code",
   "execution_count": null,
   "id": "13259be4-6b5a-4411-a8af-83baf9986af4",
   "metadata": {},
   "outputs": [],
   "source": []
  }
 ],
 "metadata": {
  "kernelspec": {
   "display_name": "Python [conda env:base] *",
   "language": "python",
   "name": "conda-base-py"
  },
  "language_info": {
   "codemirror_mode": {
    "name": "ipython",
    "version": 3
   },
   "file_extension": ".py",
   "mimetype": "text/x-python",
   "name": "python",
   "nbconvert_exporter": "python",
   "pygments_lexer": "ipython3",
   "version": "3.12.7"
  }
 },
 "nbformat": 4,
 "nbformat_minor": 5
}
