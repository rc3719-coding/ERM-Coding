{
 "cells": [
  {
   "cell_type": "code",
   "execution_count": 1,
   "id": "55169956-2594-473b-9684-1852fe6a4cbb",
   "metadata": {},
   "outputs": [],
   "source": [
    "def WhoAmI():\n",
    "    return('rc3719')"
   ]
  },
  {
   "cell_type": "code",
   "execution_count": 2,
   "id": "a0ed5d5c-9b50-43f9-8fe4-5c5065473f3f",
   "metadata": {},
   "outputs": [
    {
     "data": {
      "text/plain": [
       "'rc3719'"
      ]
     },
     "execution_count": 2,
     "metadata": {},
     "output_type": "execute_result"
    }
   ],
   "source": [
    "WhoAmI()"
   ]
  },
  {
   "cell_type": "markdown",
   "id": "c005b7ee-071a-488e-9a5e-ced6a3cc2055",
   "metadata": {},
   "source": [
    "Q2"
   ]
  },
  {
   "cell_type": "code",
   "execution_count": 3,
   "id": "5850d456-f75b-47b5-a497-e4d34eab3ca6",
   "metadata": {},
   "outputs": [],
   "source": [
    "import numpy as np"
   ]
  },
  {
   "cell_type": "code",
   "execution_count": 5,
   "id": "e5e7d566-bfe1-4b82-8a74-fab18dd150ae",
   "metadata": {},
   "outputs": [],
   "source": [
    "def getBondPrice(y, face, couponRate, m, ppy=1):\n",
    "    # number of periods\n",
    "    n = m * ppy\n",
    "    \n",
    "    # coupon payment per period\n",
    "    coupon = face * couponRate / ppy\n",
    "    \n",
    "    # discount factors\n",
    "    t = np.arange(1, n + 1)\n",
    "    discount = 1 / (1 + y/ppy) ** t\n",
    "    \n",
    "    # cashflows: coupons each period, plus face at maturity\n",
    "    cashflows = np.full(n, coupon)\n",
    "    cashflows[-1] += face   # add principal to last payment\n",
    "    \n",
    "    # bond price\n",
    "    bondPrice = np.sum(cashflows * discount)\n",
    "    return bondPrice\n",
    "\n"
   ]
  },
  {
   "cell_type": "code",
   "execution_count": 11,
   "id": "cd2a50f0-b9c5-4f1b-9d23-5b2613f43451",
   "metadata": {},
   "outputs": [
    {
     "data": {
      "text/plain": [
       "2170604.056735516"
      ]
     },
     "execution_count": 11,
     "metadata": {},
     "output_type": "execute_result"
    }
   ],
   "source": [
    "getBondPrice(.03, 2000000, 0.04, 10, 1)"
   ]
  },
  {
   "cell_type": "code",
   "execution_count": 12,
   "id": "f7ff7435-ec35-44a7-b288-6899329e6682",
   "metadata": {},
   "outputs": [
    {
     "data": {
      "text/plain": [
       "2171686.387850823"
      ]
     },
     "execution_count": 12,
     "metadata": {},
     "output_type": "execute_result"
    }
   ],
   "source": [
    "getBondPrice(.03, 2000000, 0.04, 10, 2)"
   ]
  },
  {
   "cell_type": "markdown",
   "id": "c68ac664-e7b0-4444-8a60-def65c636ba2",
   "metadata": {},
   "source": [
    "Q3"
   ]
  },
  {
   "cell_type": "code",
   "execution_count": 14,
   "id": "67f3631c-8245-42b8-9f9d-d4080c346911",
   "metadata": {},
   "outputs": [],
   "source": [
    "import numpy as np"
   ]
  },
  {
   "cell_type": "code",
   "execution_count": 15,
   "id": "30d980d0-368a-47a3-9f10-d3b0c5102a64",
   "metadata": {},
   "outputs": [],
   "source": [
    "def getBondDuration(y, face, couponRate, m, ppy=1):\n",
    "    n = m * ppy\n",
    "    coupon = face * couponRate / ppy\n",
    "    t = np.arange(1, n + 1)\n",
    "    discount = 1 / (1 + y/ppy) ** t\n",
    "    cashflows = np.full(n, coupon)\n",
    "    cashflows[-1] += face  # add face value to last payment\n",
    "\n",
    "    pvcf = cashflows * discount\n",
    "\n",
    "    bondPrice = np.sum(pvcf)\n",
    "\n",
    "    duration = np.sum(t * pvcf) / bondPrice\n",
    "    \n",
    "    return duration\n",
    "\n",
    "\n"
   ]
  },
  {
   "cell_type": "code",
   "execution_count": 16,
   "id": "39b6c06d-a28d-4de2-9023-e443b9fb93a2",
   "metadata": {},
   "outputs": [
    {
     "data": {
      "text/plain": [
       "8.508690304459575"
      ]
     },
     "execution_count": 16,
     "metadata": {},
     "output_type": "execute_result"
    }
   ],
   "source": [
    "getBondDuration(.03, 2000000, 0.04, 10, 1)\n",
    "    "
   ]
  },
  {
   "cell_type": "markdown",
   "id": "9a62bad5-79de-4352-92cc-88e7f23ea7d5",
   "metadata": {},
   "source": [
    "Q4"
   ]
  },
  {
   "cell_type": "code",
   "execution_count": 17,
   "id": "09d08f6d-1074-41a2-8afc-35a7f707ef12",
   "metadata": {},
   "outputs": [],
   "source": [
    "import numpy as np"
   ]
  },
  {
   "cell_type": "code",
   "execution_count": 19,
   "id": "a1d2c026-9bdf-44e0-bef5-5b351723ba9d",
   "metadata": {},
   "outputs": [
    {
     "name": "stdout",
     "output_type": "stream",
     "text": [
      "[16 17 'fizz' 19 'buzz' 'fizz' 22 23 'fizz' 'buzz' 26 'fizz' 28 29\n",
      " 'fizzbuzz']\n"
     ]
    }
   ],
   "source": [
    "def FizzBuzz(start, finish):\n",
    "   \n",
    "    numvec = np.arange(start, finish + 1)\n",
    "    \n",
    "\n",
    "    objvec = np.array(numvec, dtype=object)\n",
    "    \n",
    "   \n",
    "    objvec[numvec % 3 == 0] = \"fizz\"\n",
    "    objvec[numvec % 5 == 0] = \"buzz\"\n",
    "    objvec[numvec % 15 == 0] = \"fizzbuzz\"\n",
    "    \n",
    "    return objvec\n",
    "\n",
    "\n",
    "\n",
    "print(FizzBuzz(16, 30))"
   ]
  },
  {
   "cell_type": "code",
   "execution_count": null,
   "id": "1807157b-72e9-434a-b03a-93307f264540",
   "metadata": {},
   "outputs": [],
   "source": []
  }
 ],
 "metadata": {
  "kernelspec": {
   "display_name": "Python [conda env:base] *",
   "language": "python",
   "name": "conda-base-py"
  },
  "language_info": {
   "codemirror_mode": {
    "name": "ipython",
    "version": 3
   },
   "file_extension": ".py",
   "mimetype": "text/x-python",
   "name": "python",
   "nbconvert_exporter": "python",
   "pygments_lexer": "ipython3",
   "version": "3.12.7"
  }
 },
 "nbformat": 4,
 "nbformat_minor": 5
}
